{
 "cells": [
  {
   "cell_type": "markdown",
   "metadata": {},
   "source": [
    "# Retail Store Data Analysis\n",
    "Given data of transactions, we are tasked to use *\"Unsupervised Machine Learning Models\"* to classify and cluster."
   ]
  },
  {
   "cell_type": "code",
   "execution_count": null,
   "metadata": {},
   "outputs": [],
   "source": [
    "# importing libraries\n",
    "import pandas as pd                # Dataframe operations and input\n",
    "import numpy as np                 # Numerical operations, Linear Alg\n",
    "import seaborn as sns              # Visualising\n",
    "from sklearn.cluster import KMeans # KMeans Clustering Algorithm"
   ]
  }
 ],
 "metadata": {
  "language_info": {
   "name": "python"
  },
  "orig_nbformat": 4
 },
 "nbformat": 4,
 "nbformat_minor": 2
}
