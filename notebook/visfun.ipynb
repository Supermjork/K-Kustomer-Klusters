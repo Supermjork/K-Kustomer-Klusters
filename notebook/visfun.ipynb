{
 "cells": [
  {
   "cell_type": "markdown",
   "metadata": {},
   "source": [
    "# Visualisation Fun\n",
    "Taking an interest in visualisation.\\\n",
    "Will be doing this by the side/later after project is turned in\\\n",
    "\n",
    "Visualising:\n",
    "- Yearly Sales Per Country\n",
    "- Sales per customer\n",
    "- And more!"
   ]
  }
 ],
 "metadata": {
  "language_info": {
   "name": "python"
  },
  "orig_nbformat": 4
 },
 "nbformat": 4,
 "nbformat_minor": 2
}
